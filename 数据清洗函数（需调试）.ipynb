{
 "cells": [
  {
   "cell_type": "code",
   "execution_count": 4,
   "metadata": {},
   "outputs": [],
   "source": [
    "import numpy\n",
    "import statsmodels.stats.weightstats\n",
    "import scipy"
   ]
  },
  {
   "cell_type": "code",
   "execution_count": 51,
   "metadata": {},
   "outputs": [],
   "source": [
    "def t_sampling_total(data , popmean):\n",
    "    print(\"H0 : 数据集均值为\" + str(popmean))\n",
    "    print(\"H0 : 数据集均值不为\" + str(popmean))\n",
    "    t, pval = scipy.stats.ttest_1samp(data, popmean=popmean)\n",
    "\n",
    "    print(\"样本实际均值为 : \"  + str(numpy.mean(data)) )\n",
    "\n",
    "    print( \"t值为 : \" + str(t))\n",
    "    print(\"若总体均值为\" + str(popmean) + \" , 则取样\" + str(len(data)) + \" 个且均值为\" + str(numpy.mean(data)) + \" 的概率为\" + str(pval))\n",
    "    alpha = 1 - pval\n",
    "    print(\"以 \"+ str(alpha) + \"的置信度拒绝原假设\")\n",
    "# if alpha > 0.99:\n",
    "#     print(\"99%置信度拒绝原假设\")\n",
    "# elif alpha > 0.95 and alpha <= 0.99:\n",
    "#     print(\"95%置信度拒绝原假设\")\n",
    "# elif alpha >= 0.90 and alpha <= 0.95:\n",
    "#     print(\"90%置信度拒绝原假设\")\n",
    "# else:\n",
    "#     print(\"无法拒绝原假设\")"
   ]
  },
  {
   "cell_type": "code",
   "execution_count": 60,
   "metadata": {},
   "outputs": [],
   "source": [
    "def t__double_sampling(data1 , data2):\n",
    "    print(\"H0 : 两总体样本均值相同\")\n",
    "    print(\"H0 : 两总体样本均值不同\")\n",
    "    t, pval = scipy.stats.ttest_ind(data1, data2 )\n",
    "    \n",
    "    alpha = 1 - pval\n",
    "    print(\"P值为 ： \" + str(pval))\n",
    "    print(\"以 \"+ str(alpha) + \"的置信度拒绝原假设\")"
   ]
  },
  {
   "cell_type": "code",
   "execution_count": 61,
   "metadata": {},
   "outputs": [
    {
     "name": "stdout",
     "output_type": "stream",
     "text": [
      "H0 : 两总体样本均值相同\n",
      "H0 : 两总体样本均值不同\n",
      "P值为 ： 0.6207575123426956\n",
      "以 0.3792424876573044的置信度拒绝原假设\n"
     ]
    }
   ],
   "source": [
    "data1 = [781,791,787,799,798,720,701]\n",
    "data2 = [807,803,805,800,739,704,796]\n",
    "t__double_sampling(data1 ,data2)"
   ]
  },
  {
   "cell_type": "code",
   "execution_count": 58,
   "metadata": {},
   "outputs": [
    {
     "data": {
      "text/plain": [
       "779.0"
      ]
     },
     "execution_count": 58,
     "metadata": {},
     "output_type": "execute_result"
    }
   ],
   "source": [
    "numpy.mean([795,\n",
    "807,\n",
    "803,\n",
    "805,\n",
    "800,\n",
    "739,\n",
    "704])"
   ]
  },
  {
   "cell_type": "code",
   "execution_count": null,
   "metadata": {},
   "outputs": [],
   "source": []
  }
 ],
 "metadata": {
  "kernelspec": {
   "display_name": "Python 3",
   "language": "python",
   "name": "python3"
  },
  "language_info": {
   "codemirror_mode": {
    "name": "ipython",
    "version": 3
   },
   "file_extension": ".py",
   "mimetype": "text/x-python",
   "name": "python",
   "nbconvert_exporter": "python",
   "pygments_lexer": "ipython3",
   "version": "3.8.5"
  }
 },
 "nbformat": 4,
 "nbformat_minor": 4
}
